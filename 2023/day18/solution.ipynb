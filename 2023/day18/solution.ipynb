{
 "cells": [
  {
   "cell_type": "code",
   "execution_count": 1,
   "metadata": {},
   "outputs": [
    {
     "name": "stdout",
     "output_type": "stream",
     "text": [
      "76387\n"
     ]
    }
   ],
   "source": [
    "with open(\"./input.txt\", \"r\") as f:\n",
    "    data = f.read().split(\"\\n\")\n",
    "\n",
    "plans = []\n",
    "for plan in data:\n",
    "    direction, meter, _ = plan.split(\" \")\n",
    "    meter = int(meter)\n",
    "    plans.append((direction, meter))\n",
    "\n",
    "trench = {}\n",
    "\n",
    "cur = (0, 0)\n",
    "trench[cur] = 1\n",
    "\n",
    "for direction, meter in plans:\n",
    "    if direction == \"L\":\n",
    "        for i in range(meter):\n",
    "            trench[(cur[0], cur[1] - 1 - i)] = 1\n",
    "        cur = (cur[0], cur[1] - meter)\n",
    "    elif direction == \"R\":\n",
    "        for i in range(meter):\n",
    "            trench[(cur[0], cur[1] + 1 + i)] = 1\n",
    "        cur = (cur[0], cur[1] + meter)\n",
    "    elif direction == \"U\":\n",
    "        for i in range(meter):\n",
    "            trench[(cur[0] - 1 - i, cur[1])] = 1\n",
    "        cur = (cur[0] - meter, cur[1])\n",
    "    elif direction == \"D\":\n",
    "        for i in range(meter):\n",
    "            trench[(cur[0] + 1 + i, cur[1])] = 1\n",
    "        cur = (cur[0] + meter, cur[1])\n",
    "\n",
    "q = [(1, 1)]\n",
    "interior = {}\n",
    "\n",
    "while q:\n",
    "    i2, j2 = q.pop()\n",
    "\n",
    "    interior[(i2, j2)] = 1\n",
    "\n",
    "    if (i2 + 1, j2) not in interior and (i2 + 1, j2) not in trench:\n",
    "        q.append((i2 + 1, j2))\n",
    "    if (i2 - 1, j2) not in interior and (i2 - 1, j2) not in trench:\n",
    "        q.append((i2 - 1, j2))\n",
    "    if (i2, j2 + 1) not in interior and (i2, j2 + 1) not in trench:\n",
    "        q.append((i2, j2 + 1))\n",
    "    if (i2, j2 - 1) not in interior and (i2, j2 - 1) not in trench:\n",
    "        q.append((i2, j2 - 1))\n",
    "\n",
    "print(len(trench.keys()) + len(interior.keys()))"
   ]
  },
  {
   "cell_type": "code",
   "execution_count": 2,
   "metadata": {},
   "outputs": [
    {
     "name": "stdout",
     "output_type": "stream",
     "text": [
      "250022188522074.0\n"
     ]
    }
   ],
   "source": [
    "with open(\"./input.txt\", \"r\") as f:\n",
    "    data = f.read().split(\"\\n\")\n",
    "\n",
    "x = 0\n",
    "y = 0\n",
    "coord = [[x, y]]\n",
    "\n",
    "border = 0\n",
    "for plan in data:\n",
    "    _1, _2, color = plan.split(\" \")\n",
    "    meter = int(color[2:7], 16)\n",
    "\n",
    "    if color[7] == \"0\":\n",
    "        x += meter\n",
    "    if color[7] == \"1\":\n",
    "        y -= meter\n",
    "    if color[7] == \"2\":\n",
    "        x -= meter\n",
    "    if color[7] == \"3\":\n",
    "        y += meter\n",
    "    coord.append([x, y])\n",
    "\n",
    "    border += meter\n",
    "\n",
    "import numpy as np\n",
    "\n",
    "n = len(coord)\n",
    "\n",
    "# Shoelace formula\n",
    "a = [[coord[i], coord[i + 1]] for i in range(n - 1)]\n",
    "area = abs(np.sum(np.linalg.det(a)) / 2)\n",
    "\n",
    "# with edge\n",
    "print(area + border / 2 + 1)"
   ]
  }
 ],
 "metadata": {
  "kernelspec": {
   "display_name": "base",
   "language": "python",
   "name": "python3"
  },
  "language_info": {
   "codemirror_mode": {
    "name": "ipython",
    "version": 3
   },
   "file_extension": ".py",
   "mimetype": "text/x-python",
   "name": "python",
   "nbconvert_exporter": "python",
   "pygments_lexer": "ipython3",
   "version": "3.9.5"
  }
 },
 "nbformat": 4,
 "nbformat_minor": 2
}
